{
 "cells": [
  {
   "cell_type": "code",
   "execution_count": 1,
   "metadata": {},
   "outputs": [],
   "source": [
    "import matplotlib.pyplot as plt\n",
    "import numpy as np\n",
    "\n"
   ]
  },
  {
   "cell_type": "code",
   "execution_count": 6,
   "metadata": {},
   "outputs": [],
   "source": [
    "\n",
    "tapo, tapo1, tapo2 = np.loadtxt('tica_apo_torsion.dat',comments=['@', '#'], unpack=True)\n"
   ]
  },
  {
   "cell_type": "code",
   "execution_count": 16,
   "metadata": {},
   "outputs": [
    {
     "data": {
      "image/png": "[encoded data removed]",
      "text/plain": [
       "<Figure size 432x288 with 2 Axes>"
      ]
     },
     "metadata": {
      "needs_background": "light"
     },
     "output_type": "display_data"
    }
   ],
   "source": [
    "plt.figure(figsize=[6, 4])\n",
    "#fig, (ax1, ax2, ax3, ax4, ax5, ax6) = plt.subplots(6,1, figsize=(8*cm,40*cm))\n",
    "\n",
    "left, width = 0.12, 0.65\n",
    "bottom, height = 0.14, 0.75\n",
    "spacing = 0.005\n",
    "\n",
    "rect_scatter = [left, bottom, width, height]\n",
    "#rect_histx = [left, bottom + height + spacing, width, 0.2]\n",
    "rect_histy = [left + width + spacing, bottom, 0.2, height]\n",
    "\n",
    "#plotting data into different boxes\n",
    "ax1_scatter = plt.axes(rect_scatter)\n",
    "ax1_scatter.tick_params(direction='in', top=True, right=True)\n",
    "ax1_scatter = plt.plot(tapo, tapo1, \"-r\", label=\"A1\")\n",
    "\n",
    "ax1_scatter= plt.xlim([0, 201])                                  #xrange\n",
    "ax1_scatter = plt.ylim([-3, 3])     \n",
    "\n",
    "\n",
    "ax1_scatter =plt.xticks(np.arange(0, 201, 40), fontsize=16)        #ticks\n",
    "ax1_scatter =plt.yticks(np.arange(-3, 3.1, 1) , fontsize=16)        #ticks\n",
    "\n",
    "\n",
    "ax1_scatter = plt.xlabel('time', fontsize=16)                      #xlabel\n",
    "ax1_scatter = plt.ylabel('IC 1' , fontsize=16)                     #ylabel\n",
    "#for x axis distribution plot\n",
    "#ax_histx = plt.axes(rect_histx)\n",
    "#ax_histx.tick_params(direction='in', labelbottom=False)\n",
    "\n",
    "#for y axis distribution plot\n",
    "ax1_histy = plt.axes(rect_histy)\n",
    "ax1_histy.tick_params(direction='in', labelleft=False)\n",
    "ax1_histy.tick_params(direction='in', labelbottom=False)\n",
    "ax1_histy =plt.hist(tapo1, bins=100, histtype='step', color='red', linewidth=1.5, density=True, orientation='horizontal')\n",
    "\n",
    "ax1_histy= plt.xlim([0, 0.7])\n",
    "ax1_histy = plt.ylim([-3, 3])\n",
    "\n",
    "plt.savefig('image-apo-test.png', dpi=300)\n"
   ]
  },
  {
   "cell_type": "code",
   "execution_count": null,
   "metadata": {},
   "outputs": [],
   "source": []
  },
  {
   "cell_type": "code",
   "execution_count": null,
   "metadata": {},
   "outputs": [],
   "source": []
  },
  {
   "cell_type": "code",
   "execution_count": null,
   "metadata": {},
   "outputs": [],
   "source": []
  },
  {
   "cell_type": "code",
   "execution_count": null,
   "metadata": {},
   "outputs": [],
   "source": []
  },
  {
   "cell_type": "code",
   "execution_count": null,
   "metadata": {},
   "outputs": [],
   "source": []
  },
  {
   "cell_type": "code",
   "execution_count": null,
   "metadata": {},
   "outputs": [],
   "source": []
  }
 ],
 "metadata": {
  "kernelspec": {
   "display_name": "Python 3",
   "language": "python",
   "name": "python3"
  },
  "language_info": {
   "codemirror_mode": {
    "name": "ipython",
    "version": 3
   },
   "file_extension": ".py",
   "mimetype": "text/x-python",
   "name": "python",
   "nbconvert_exporter": "python",
   "pygments_lexer": "ipython3",
   "version": "3.7.6"
  }
 },
 "nbformat": 4,
 "nbformat_minor": 5
}
